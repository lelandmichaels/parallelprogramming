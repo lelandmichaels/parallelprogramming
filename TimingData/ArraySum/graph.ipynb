{
 "cells": [
  {
   "cell_type": "markdown",
   "metadata": {},
   "source": [
    "Dalton Nickerson<br>\n",
    "Parallel Programming<br>\n",
    "May 3, 2017<br>\n",
    "<h1>Timing Plots for CUDA Array Sum Reduction:</h1>\n",
    "The following code was used to generate the plot from the input text file <em>\"timing.txt\"</em>.<br>\n",
    "The data was generated with various problem sizes in 250,000 length increments with each size being tested 50 times for a more accurate average time measurement.\n",
    "We begin by opening our data file and reading its contents."
   ]
  },
  {
   "cell_type": "code",
   "execution_count": 1,
   "metadata": {
    "collapsed": false,
    "scrolled": true
   },
   "outputs": [
    {
     "name": "stdout",
     "output_type": "stream",
     "text": [
      "Data read successfully.\n"
     ]
    }
   ],
   "source": [
    "plotLabels = ['Size','AvgCPUTime','AvgGPUTime']\n",
    "labels = []\n",
    "data = {}\n",
    "with open('timing.txt','r') as f:\n",
    "    for line in f:\n",
    "        line = line.strip()\n",
    "        params = line.split('\\t')\n",
    "        if len(labels)<1:\n",
    "            labels = plotLabels\n",
    "            for label in labels:\n",
    "                data[label] = []\n",
    "        else:\n",
    "            for i in range(len(params)):\n",
    "                if labels[i] in plotLabels:\n",
    "                    data[labels[i]].append(float(params[i]))    \n",
    "                else:\n",
    "                    data[labels[i]].append(params[i])\n",
    "print(\"Data read successfully.\")"
   ]
  },
  {
   "cell_type": "code",
   "execution_count": 2,
   "metadata": {
    "collapsed": false,
    "scrolled": false
   },
   "outputs": [
    {
     "data": {
      "image/png": "[encoded data removed]",
      "text/plain": [
       "<matplotlib.figure.Figure at 0x251bd2b9898>"
      ]
     },
     "metadata": {},
     "output_type": "display_data"
    }
   ],
   "source": [
    "%matplotlib inline\n",
    "\n",
    "import matplotlib\n",
    "import numpy as np\n",
    "import matplotlib.pyplot as plt\n",
    "\n",
    "plt.plot(data[plotLabels[0]],data[plotLabels[1]],'b-', label=plotLabels[1])\n",
    "plt.plot(data[plotLabels[0]],data[plotLabels[2]],'r-', label=plotLabels[2])\n",
    "plt.xlabel(plotLabels[0])\n",
    "plt.ylabel(\"Run time (ms)\")\n",
    "plt.xlim([0,data[plotLabels[0]][-1]])\n",
    "plt.ylim([0,1])\n",
    "lgd = plt.legend(bbox_to_anchor=(0.40,-0.20))\n",
    "plt.savefig(\"timingPlot.png\",bbox_extra_artists=(lgd,),bbox_inches=\"tight\")\n",
    "plt.show()"
   ]
  },
  {
   "cell_type": "code",
   "execution_count": null,
   "metadata": {
    "collapsed": true
   },
   "outputs": [],
   "source": []
  }
 ],
 "metadata": {
  "anaconda-cloud": {},
  "kernelspec": {
   "display_name": "Python 3",
   "language": "python",
   "name": "python3"
  },
  "language_info": {
   "codemirror_mode": {
    "name": "ipython",
    "version": 3
   },
   "file_extension": ".py",
   "mimetype": "text/x-python",
   "name": "python",
   "nbconvert_exporter": "python",
   "pygments_lexer": "ipython3",
   "version": "3.5.1"
  }
 },
 "nbformat": 4,
 "nbformat_minor": 1
}
